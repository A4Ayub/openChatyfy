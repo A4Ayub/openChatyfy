{
 "cells": [
  {
   "cell_type": "markdown",
   "metadata": {},
   "source": [
    "# Positive-Negative Sentiments"
   ]
  },
  {
   "cell_type": "markdown",
   "metadata": {},
   "source": [
    "**Are your customers happy?**\n",
    "\n",
    "Consider the statement \"This movie is not very good\". The sentence ends with the words \"very good\" which indicates a very positive sentiment, but it is negated because it is preceeded by the word \"not\", so this text should be classified as having a negative sentiment."
   ]
  },
  {
   "cell_type": "markdown",
   "metadata": {},
   "source": [
    "**Processing Steps**"
   ]
  },
  {
   "cell_type": "markdown",
   "metadata": {},
   "source": [
    "1. Conert raw text into tokens which are integers - These are indices into a list of the entire vocabulary\n",
    "2. Convert the tokens into embeddings - These are real-valued vectors, whose mapping will be trained along with the neural network, so as to map words with similar meanings to similar embedding-vectors\n",
    "3. Feed the embedding-vectors into an RNN - The RNN takes sequences of arbitrary length as input and output a kind of summary of what it has seen into the input\n",
    "4. Squash the output of the RNN using a sigmoid function - This will give us the prediction probability value between 0.0 and 1.0 where 0.0 mean a negative sentiment and 1.0 means a positive sentiment."
   ]
  },
  {
   "cell_type": "markdown",
   "metadata": {},
   "source": [
    "**RNN Re-Cap**"
   ]
  },
  {
   "cell_type": "markdown",
   "metadata": {},
   "source": [
    "Types of recurrent units within an RNN:\n",
    "    1. LSTM - Long-Short-Term-Memory\n",
    "    2. GRU - Gated Recurrent Unit\n",
    " \n",
    "A gated reurrent unit has an internal state that is being updated every-time the unit recieves a new input and it is a kind of memory that stores floating-point values in its memory state which are read and written using matrix operations so that the operations are all differentiable. This means the memory-state can store arbitrary floating-point values (although typically limited between )"
   ]
  }
 ],
 "metadata": {
  "kernelspec": {
   "display_name": "Python 3",
   "language": "python",
   "name": "python3"
  },
  "language_info": {
   "codemirror_mode": {
    "name": "ipython",
    "version": 3
   },
   "file_extension": ".py",
   "mimetype": "text/x-python",
   "name": "python",
   "nbconvert_exporter": "python",
   "pygments_lexer": "ipython3",
   "version": "3.7.3"
  }
 },
 "nbformat": 4,
 "nbformat_minor": 2
}
